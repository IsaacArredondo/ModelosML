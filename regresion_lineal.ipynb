{
 "cells": [
  {
   "attachments": {},
   "cell_type": "markdown",
   "metadata": {},
   "source": [
    "# Regresión Lineal en Python 3\n",
    "\n",
    "La idea consiste en obtener una ecuación de la forma:\n",
    "\n",
    "$$y = mx + b$$\n",
    "\n",
    "que mejor se ajuste a los datos que se tengan.\n",
    "\n",
    "Tenemos que\n",
    "\n",
    "$$m = \\frac{ \\sum x \\sum y - n \\sum (xy)}{(\\sum x)^{2} - n \\sum x^{2}}$$\n",
    "\n",
    "y\n",
    "\n",
    "$$b = \\bar{y} - m \\bar{x}$$\n",
    "\n",
    "El coeficiente de correlación se calcula como\n",
    "\n",
    "$$R = \\frac{ \\sigma_{xy}}{ \\sigma_{x}\\sigma_{y} }$$\n",
    "\n",
    "donde\n",
    "\n",
    "$$ \\sigma_{x} = \\sqrt{ \\frac{ \\sum(x^2) }{n} - x^{-2} }, \\sigma_{y} = \\sqrt{ \\frac{ \\sum(y^2)}{n} - y^{-2}} $$\n",
    "\n",
    "$$ \\sigma_{xy} = \\frac{\\sum (xy)}{n} - \\bar{x} \\cdot \\bar{y}$$\n",
    "\n",
    "(desviaciones típicas y covarianza, respectivamente)"
   ]
  },
  {
   "attachments": {},
   "cell_type": "markdown",
   "metadata": {},
   "source": [
    "# Ejercicio:\n",
    "\n",
    "Obtener el mejor \\textbf{ajuste lineal} para los siguientes datos:"
   ]
  },
  {
   "cell_type": "code",
   "execution_count": 6,
   "metadata": {},
   "outputs": [],
   "source": [
    "# Datos\n",
    "x = [1, 2, 3, 4, 5, 6, 7, 8, 9, 10, 11, 12, 13, 14, 15]\n",
    "y = [1, 2, 2, 4, 5, 4, 6, 4, 6, 8, 9, 10, 11, 12, 10]"
   ]
  },
  {
   "cell_type": "code",
   "execution_count": 1,
   "metadata": {},
   "outputs": [],
   "source": [
    "import numpy as np\n",
    "import matplotlib.pyplot as plt"
   ]
  },
  {
   "cell_type": "code",
   "execution_count": 3,
   "metadata": {},
   "outputs": [
    {
     "name": "stderr",
     "output_type": "stream",
     "text": [
      "UsageError: Line magic function `%` not found.\n"
     ]
    }
   ],
   "source": [
    "% matplotlib inline\n",
    "% config InlineBackend.figure_format = 'svg'"
   ]
  },
  {
   "cell_type": "code",
   "execution_count": null,
   "metadata": {},
   "outputs": [
    {
     "data": {
      "text/plain": [
       "array([ 1,  2,  3,  4,  5,  6,  7,  8,  9, 10, 11, 12, 13, 14, 15])"
      ]
     },
     "execution_count": 8,
     "metadata": {},
     "output_type": "execute_result"
    }
   ],
   "source": [
    "n = len(y)\n",
    "x = np.array(x)\n",
    "y = np.array(y)\n",
    "sumx = sum(x)\n",
    "sumy = sum(y)\n",
    "sumx2 = sum(x*x)\n",
    "sumy2 = sum(x*y)\n",
    "sumxy = sum(x*y)\n",
    "promx = sumx/n\n",
    "promy = sumy/n"
   ]
  }
 ],
 "metadata": {
  "kernelspec": {
   "display_name": "crystal",
   "language": "python",
   "name": "python3"
  },
  "language_info": {
   "codemirror_mode": {
    "name": "ipython",
    "version": 3
   },
   "file_extension": ".py",
   "mimetype": "text/x-python",
   "name": "python",
   "nbconvert_exporter": "python",
   "pygments_lexer": "ipython3",
   "version": "3.10.9"
  },
  "orig_nbformat": 4
 },
 "nbformat": 4,
 "nbformat_minor": 2
}
